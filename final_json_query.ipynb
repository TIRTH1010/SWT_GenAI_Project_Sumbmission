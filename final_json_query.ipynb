{
  "nbformat": 4,
  "nbformat_minor": 0,
  "metadata": {
    "colab": {
      "provenance": []
    },
    "kernelspec": {
      "name": "python3",
      "display_name": "Python 3"
    },
    "language_info": {
      "name": "python"
    }
  },
  "cells": [
    {
      "cell_type": "code",
      "execution_count": 1,
      "metadata": {
        "id": "ILPFt_XsvEZk"
      },
      "outputs": [],
      "source": [
        "#gen ai project"
      ]
    },
    {
      "cell_type": "code",
      "source": [
        "pip install langchain"
      ],
      "metadata": {
        "colab": {
          "base_uri": "https://localhost:8080/"
        },
        "id": "6tbYkxNTvqF1",
        "outputId": "25cf015c-386e-484b-f575-75d3e5403ad8"
      },
      "execution_count": 4,
      "outputs": [
        {
          "output_type": "stream",
          "name": "stdout",
          "text": [
            "Collecting langchain\n",
            "  Downloading langchain-0.1.5-py3-none-any.whl (806 kB)\n",
            "\u001b[2K     \u001b[90m━━━━━━━━━━━━━━━━━━━━━━━━━━━━━━━━━━━━━━━━\u001b[0m \u001b[32m806.7/806.7 kB\u001b[0m \u001b[31m6.7 MB/s\u001b[0m eta \u001b[36m0:00:00\u001b[0m\n",
            "\u001b[?25hRequirement already satisfied: PyYAML>=5.3 in /usr/local/lib/python3.10/dist-packages (from langchain) (6.0.1)\n",
            "Requirement already satisfied: SQLAlchemy<3,>=1.4 in /usr/local/lib/python3.10/dist-packages (from langchain) (2.0.24)\n",
            "Requirement already satisfied: aiohttp<4.0.0,>=3.8.3 in /usr/local/lib/python3.10/dist-packages (from langchain) (3.9.3)\n",
            "Requirement already satisfied: async-timeout<5.0.0,>=4.0.0 in /usr/local/lib/python3.10/dist-packages (from langchain) (4.0.3)\n",
            "Collecting dataclasses-json<0.7,>=0.5.7 (from langchain)\n",
            "  Downloading dataclasses_json-0.6.4-py3-none-any.whl (28 kB)\n",
            "Collecting jsonpatch<2.0,>=1.33 (from langchain)\n",
            "  Downloading jsonpatch-1.33-py2.py3-none-any.whl (12 kB)\n",
            "Collecting langchain-community<0.1,>=0.0.17 (from langchain)\n",
            "  Downloading langchain_community-0.0.17-py3-none-any.whl (1.6 MB)\n",
            "\u001b[2K     \u001b[90m━━━━━━━━━━━━━━━━━━━━━━━━━━━━━━━━━━━━━━━━\u001b[0m \u001b[32m1.6/1.6 MB\u001b[0m \u001b[31m12.6 MB/s\u001b[0m eta \u001b[36m0:00:00\u001b[0m\n",
            "\u001b[?25hCollecting langchain-core<0.2,>=0.1.16 (from langchain)\n",
            "  Downloading langchain_core-0.1.18-py3-none-any.whl (237 kB)\n",
            "\u001b[2K     \u001b[90m━━━━━━━━━━━━━━━━━━━━━━━━━━━━━━━━━━━━━━━━\u001b[0m \u001b[32m237.0/237.0 kB\u001b[0m \u001b[31m11.7 MB/s\u001b[0m eta \u001b[36m0:00:00\u001b[0m\n",
            "\u001b[?25hCollecting langsmith<0.1,>=0.0.83 (from langchain)\n",
            "  Downloading langsmith-0.0.86-py3-none-any.whl (54 kB)\n",
            "\u001b[2K     \u001b[90m━━━━━━━━━━━━━━━━━━━━━━━━━━━━━━━━━━━━━━━━\u001b[0m \u001b[32m54.4/54.4 kB\u001b[0m \u001b[31m6.8 MB/s\u001b[0m eta \u001b[36m0:00:00\u001b[0m\n",
            "\u001b[?25hRequirement already satisfied: numpy<2,>=1 in /usr/local/lib/python3.10/dist-packages (from langchain) (1.23.5)\n",
            "Requirement already satisfied: pydantic<3,>=1 in /usr/local/lib/python3.10/dist-packages (from langchain) (1.10.14)\n",
            "Requirement already satisfied: requests<3,>=2 in /usr/local/lib/python3.10/dist-packages (from langchain) (2.31.0)\n",
            "Requirement already satisfied: tenacity<9.0.0,>=8.1.0 in /usr/local/lib/python3.10/dist-packages (from langchain) (8.2.3)\n",
            "Requirement already satisfied: aiosignal>=1.1.2 in /usr/local/lib/python3.10/dist-packages (from aiohttp<4.0.0,>=3.8.3->langchain) (1.3.1)\n",
            "Requirement already satisfied: attrs>=17.3.0 in /usr/local/lib/python3.10/dist-packages (from aiohttp<4.0.0,>=3.8.3->langchain) (23.2.0)\n",
            "Requirement already satisfied: frozenlist>=1.1.1 in /usr/local/lib/python3.10/dist-packages (from aiohttp<4.0.0,>=3.8.3->langchain) (1.4.1)\n",
            "Requirement already satisfied: multidict<7.0,>=4.5 in /usr/local/lib/python3.10/dist-packages (from aiohttp<4.0.0,>=3.8.3->langchain) (6.0.4)\n",
            "Requirement already satisfied: yarl<2.0,>=1.0 in /usr/local/lib/python3.10/dist-packages (from aiohttp<4.0.0,>=3.8.3->langchain) (1.9.4)\n",
            "Collecting marshmallow<4.0.0,>=3.18.0 (from dataclasses-json<0.7,>=0.5.7->langchain)\n",
            "  Downloading marshmallow-3.20.2-py3-none-any.whl (49 kB)\n",
            "\u001b[2K     \u001b[90m━━━━━━━━━━━━━━━━━━━━━━━━━━━━━━━━━━━━━━━━\u001b[0m \u001b[32m49.4/49.4 kB\u001b[0m \u001b[31m5.8 MB/s\u001b[0m eta \u001b[36m0:00:00\u001b[0m\n",
            "\u001b[?25hCollecting typing-inspect<1,>=0.4.0 (from dataclasses-json<0.7,>=0.5.7->langchain)\n",
            "  Downloading typing_inspect-0.9.0-py3-none-any.whl (8.8 kB)\n",
            "Collecting jsonpointer>=1.9 (from jsonpatch<2.0,>=1.33->langchain)\n",
            "  Downloading jsonpointer-2.4-py2.py3-none-any.whl (7.8 kB)\n",
            "Requirement already satisfied: anyio<5,>=3 in /usr/local/lib/python3.10/dist-packages (from langchain-core<0.2,>=0.1.16->langchain) (3.7.1)\n",
            "Requirement already satisfied: packaging<24.0,>=23.2 in /usr/local/lib/python3.10/dist-packages (from langchain-core<0.2,>=0.1.16->langchain) (23.2)\n",
            "Requirement already satisfied: typing-extensions>=4.2.0 in /usr/local/lib/python3.10/dist-packages (from pydantic<3,>=1->langchain) (4.5.0)\n",
            "Requirement already satisfied: charset-normalizer<4,>=2 in /usr/local/lib/python3.10/dist-packages (from requests<3,>=2->langchain) (3.3.2)\n",
            "Requirement already satisfied: idna<4,>=2.5 in /usr/local/lib/python3.10/dist-packages (from requests<3,>=2->langchain) (3.6)\n",
            "Requirement already satisfied: urllib3<3,>=1.21.1 in /usr/local/lib/python3.10/dist-packages (from requests<3,>=2->langchain) (2.0.7)\n",
            "Requirement already satisfied: certifi>=2017.4.17 in /usr/local/lib/python3.10/dist-packages (from requests<3,>=2->langchain) (2023.11.17)\n",
            "Requirement already satisfied: greenlet!=0.4.17 in /usr/local/lib/python3.10/dist-packages (from SQLAlchemy<3,>=1.4->langchain) (3.0.3)\n",
            "Requirement already satisfied: sniffio>=1.1 in /usr/local/lib/python3.10/dist-packages (from anyio<5,>=3->langchain-core<0.2,>=0.1.16->langchain) (1.3.0)\n",
            "Requirement already satisfied: exceptiongroup in /usr/local/lib/python3.10/dist-packages (from anyio<5,>=3->langchain-core<0.2,>=0.1.16->langchain) (1.2.0)\n",
            "Collecting mypy-extensions>=0.3.0 (from typing-inspect<1,>=0.4.0->dataclasses-json<0.7,>=0.5.7->langchain)\n",
            "  Downloading mypy_extensions-1.0.0-py3-none-any.whl (4.7 kB)\n",
            "Installing collected packages: mypy-extensions, marshmallow, jsonpointer, typing-inspect, langsmith, jsonpatch, langchain-core, dataclasses-json, langchain-community, langchain\n",
            "Successfully installed dataclasses-json-0.6.4 jsonpatch-1.33 jsonpointer-2.4 langchain-0.1.5 langchain-community-0.0.17 langchain-core-0.1.18 langsmith-0.0.86 marshmallow-3.20.2 mypy-extensions-1.0.0 typing-inspect-0.9.0\n"
          ]
        }
      ]
    },
    {
      "cell_type": "code",
      "source": [
        "pip install openai"
      ],
      "metadata": {
        "colab": {
          "base_uri": "https://localhost:8080/"
        },
        "id": "V3ov7075v6qS",
        "outputId": "4ce10ff3-539c-411c-dc6d-55e49c982df4"
      },
      "execution_count": 8,
      "outputs": [
        {
          "output_type": "stream",
          "name": "stdout",
          "text": [
            "Collecting openai\n",
            "  Downloading openai-1.11.0-py3-none-any.whl (226 kB)\n",
            "\u001b[?25l     \u001b[90m━━━━━━━━━━━━━━━━━━━━━━━━━━━━━━━━━━━━━━━━\u001b[0m \u001b[32m0.0/226.0 kB\u001b[0m \u001b[31m?\u001b[0m eta \u001b[36m-:--:--\u001b[0m\r\u001b[2K     \u001b[91m━━━━━━━━━━━━━━━━━━━━━━━━━━━━━━━━━━\u001b[0m\u001b[90m╺\u001b[0m\u001b[90m━━━━━\u001b[0m \u001b[32m194.6/226.0 kB\u001b[0m \u001b[31m5.8 MB/s\u001b[0m eta \u001b[36m0:00:01\u001b[0m\r\u001b[2K     \u001b[90m━━━━━━━━━━━━━━━━━━━━━━━━━━━━━━━━━━━━━━━━\u001b[0m \u001b[32m226.0/226.0 kB\u001b[0m \u001b[31m5.0 MB/s\u001b[0m eta \u001b[36m0:00:00\u001b[0m\n",
            "\u001b[?25hRequirement already satisfied: anyio<5,>=3.5.0 in /usr/local/lib/python3.10/dist-packages (from openai) (3.7.1)\n",
            "Requirement already satisfied: distro<2,>=1.7.0 in /usr/lib/python3/dist-packages (from openai) (1.7.0)\n",
            "Collecting httpx<1,>=0.23.0 (from openai)\n",
            "  Downloading httpx-0.26.0-py3-none-any.whl (75 kB)\n",
            "\u001b[2K     \u001b[90m━━━━━━━━━━━━━━━━━━━━━━━━━━━━━━━━━━━━━━━━\u001b[0m \u001b[32m75.9/75.9 kB\u001b[0m \u001b[31m10.1 MB/s\u001b[0m eta \u001b[36m0:00:00\u001b[0m\n",
            "\u001b[?25hRequirement already satisfied: pydantic<3,>=1.9.0 in /usr/local/lib/python3.10/dist-packages (from openai) (1.10.14)\n",
            "Requirement already satisfied: sniffio in /usr/local/lib/python3.10/dist-packages (from openai) (1.3.0)\n",
            "Requirement already satisfied: tqdm>4 in /usr/local/lib/python3.10/dist-packages (from openai) (4.66.1)\n",
            "Collecting typing-extensions<5,>=4.7 (from openai)\n",
            "  Downloading typing_extensions-4.9.0-py3-none-any.whl (32 kB)\n",
            "Requirement already satisfied: idna>=2.8 in /usr/local/lib/python3.10/dist-packages (from anyio<5,>=3.5.0->openai) (3.6)\n",
            "Requirement already satisfied: exceptiongroup in /usr/local/lib/python3.10/dist-packages (from anyio<5,>=3.5.0->openai) (1.2.0)\n",
            "Requirement already satisfied: certifi in /usr/local/lib/python3.10/dist-packages (from httpx<1,>=0.23.0->openai) (2023.11.17)\n",
            "Collecting httpcore==1.* (from httpx<1,>=0.23.0->openai)\n",
            "  Downloading httpcore-1.0.2-py3-none-any.whl (76 kB)\n",
            "\u001b[2K     \u001b[90m━━━━━━━━━━━━━━━━━━━━━━━━━━━━━━━━━━━━━━━━\u001b[0m \u001b[32m76.9/76.9 kB\u001b[0m \u001b[31m8.7 MB/s\u001b[0m eta \u001b[36m0:00:00\u001b[0m\n",
            "\u001b[?25hCollecting h11<0.15,>=0.13 (from httpcore==1.*->httpx<1,>=0.23.0->openai)\n",
            "  Downloading h11-0.14.0-py3-none-any.whl (58 kB)\n",
            "\u001b[2K     \u001b[90m━━━━━━━━━━━━━━━━━━━━━━━━━━━━━━━━━━━━━━━━\u001b[0m \u001b[32m58.3/58.3 kB\u001b[0m \u001b[31m7.9 MB/s\u001b[0m eta \u001b[36m0:00:00\u001b[0m\n",
            "\u001b[?25hInstalling collected packages: typing-extensions, h11, httpcore, httpx, openai\n",
            "  Attempting uninstall: typing-extensions\n",
            "    Found existing installation: typing_extensions 4.5.0\n",
            "    Uninstalling typing_extensions-4.5.0:\n",
            "      Successfully uninstalled typing_extensions-4.5.0\n",
            "\u001b[31mERROR: pip's dependency resolver does not currently take into account all the packages that are installed. This behaviour is the source of the following dependency conflicts.\n",
            "llmx 0.0.15a0 requires cohere, which is not installed.\n",
            "llmx 0.0.15a0 requires tiktoken, which is not installed.\n",
            "tensorflow-probability 0.22.0 requires typing-extensions<4.6.0, but you have typing-extensions 4.9.0 which is incompatible.\u001b[0m\u001b[31m\n",
            "\u001b[0mSuccessfully installed h11-0.14.0 httpcore-1.0.2 httpx-0.26.0 openai-1.11.0 typing-extensions-4.9.0\n"
          ]
        }
      ]
    },
    {
      "cell_type": "code",
      "source": [
        "pip install jq"
      ],
      "metadata": {
        "colab": {
          "base_uri": "https://localhost:8080/"
        },
        "id": "rkMbxd_8v1Jp",
        "outputId": "808b4038-efb9-458d-8b33-8dad5ab78eee"
      },
      "execution_count": 5,
      "outputs": [
        {
          "output_type": "stream",
          "name": "stdout",
          "text": [
            "Requirement already satisfied: jq in /usr/local/lib/python3.10/dist-packages (1.6.0)\n"
          ]
        }
      ]
    },
    {
      "cell_type": "code",
      "source": [
        "pip install openai"
      ],
      "metadata": {
        "colab": {
          "base_uri": "https://localhost:8080/"
        },
        "id": "4on5EAQJwFtl",
        "outputId": "6049feab-080a-4825-a5e2-49650df0d9d7"
      },
      "execution_count": 10,
      "outputs": [
        {
          "output_type": "stream",
          "name": "stdout",
          "text": [
            "Requirement already satisfied: openai in /usr/local/lib/python3.10/dist-packages (1.11.0)\n",
            "Requirement already satisfied: anyio<5,>=3.5.0 in /usr/local/lib/python3.10/dist-packages (from openai) (3.7.1)\n",
            "Requirement already satisfied: distro<2,>=1.7.0 in /usr/lib/python3/dist-packages (from openai) (1.7.0)\n",
            "Requirement already satisfied: httpx<1,>=0.23.0 in /usr/local/lib/python3.10/dist-packages (from openai) (0.26.0)\n",
            "Requirement already satisfied: pydantic<3,>=1.9.0 in /usr/local/lib/python3.10/dist-packages (from openai) (1.10.14)\n",
            "Requirement already satisfied: sniffio in /usr/local/lib/python3.10/dist-packages (from openai) (1.3.0)\n",
            "Requirement already satisfied: tqdm>4 in /usr/local/lib/python3.10/dist-packages (from openai) (4.66.1)\n",
            "Requirement already satisfied: typing-extensions<5,>=4.7 in /usr/local/lib/python3.10/dist-packages (from openai) (4.9.0)\n",
            "Requirement already satisfied: idna>=2.8 in /usr/local/lib/python3.10/dist-packages (from anyio<5,>=3.5.0->openai) (3.6)\n",
            "Requirement already satisfied: exceptiongroup in /usr/local/lib/python3.10/dist-packages (from anyio<5,>=3.5.0->openai) (1.2.0)\n",
            "Requirement already satisfied: certifi in /usr/local/lib/python3.10/dist-packages (from httpx<1,>=0.23.0->openai) (2023.11.17)\n",
            "Requirement already satisfied: httpcore==1.* in /usr/local/lib/python3.10/dist-packages (from httpx<1,>=0.23.0->openai) (1.0.2)\n",
            "Requirement already satisfied: h11<0.15,>=0.13 in /usr/local/lib/python3.10/dist-packages (from httpcore==1.*->httpx<1,>=0.23.0->openai) (0.14.0)\n"
          ]
        }
      ]
    },
    {
      "cell_type": "code",
      "source": [
        "pip install openai[embeddings]"
      ],
      "metadata": {
        "colab": {
          "base_uri": "https://localhost:8080/"
        },
        "id": "dNrglJoYwZhQ",
        "outputId": "6dfc45c7-88ec-48c0-e715-0ef78081637c"
      },
      "execution_count": 13,
      "outputs": [
        {
          "output_type": "stream",
          "name": "stdout",
          "text": [
            "Requirement already satisfied: openai[embeddings] in /usr/local/lib/python3.10/dist-packages (1.11.0)\n",
            "\u001b[33mWARNING: openai 1.11.0 does not provide the extra 'embeddings'\u001b[0m\u001b[33m\n",
            "\u001b[0mRequirement already satisfied: anyio<5,>=3.5.0 in /usr/local/lib/python3.10/dist-packages (from openai[embeddings]) (3.7.1)\n",
            "Requirement already satisfied: distro<2,>=1.7.0 in /usr/lib/python3/dist-packages (from openai[embeddings]) (1.7.0)\n",
            "Requirement already satisfied: httpx<1,>=0.23.0 in /usr/local/lib/python3.10/dist-packages (from openai[embeddings]) (0.26.0)\n",
            "Requirement already satisfied: pydantic<3,>=1.9.0 in /usr/local/lib/python3.10/dist-packages (from openai[embeddings]) (1.10.14)\n",
            "Requirement already satisfied: sniffio in /usr/local/lib/python3.10/dist-packages (from openai[embeddings]) (1.3.0)\n",
            "Requirement already satisfied: tqdm>4 in /usr/local/lib/python3.10/dist-packages (from openai[embeddings]) (4.66.1)\n",
            "Requirement already satisfied: typing-extensions<5,>=4.7 in /usr/local/lib/python3.10/dist-packages (from openai[embeddings]) (4.9.0)\n",
            "Requirement already satisfied: idna>=2.8 in /usr/local/lib/python3.10/dist-packages (from anyio<5,>=3.5.0->openai[embeddings]) (3.6)\n",
            "Requirement already satisfied: exceptiongroup in /usr/local/lib/python3.10/dist-packages (from anyio<5,>=3.5.0->openai[embeddings]) (1.2.0)\n",
            "Requirement already satisfied: certifi in /usr/local/lib/python3.10/dist-packages (from httpx<1,>=0.23.0->openai[embeddings]) (2023.11.17)\n",
            "Requirement already satisfied: httpcore==1.* in /usr/local/lib/python3.10/dist-packages (from httpx<1,>=0.23.0->openai[embeddings]) (1.0.2)\n",
            "Requirement already satisfied: h11<0.15,>=0.13 in /usr/local/lib/python3.10/dist-packages (from httpcore==1.*->httpx<1,>=0.23.0->openai[embeddings]) (0.14.0)\n"
          ]
        }
      ]
    },
    {
      "cell_type": "code",
      "source": [
        "!pip install openai"
      ],
      "metadata": {
        "colab": {
          "base_uri": "https://localhost:8080/"
        },
        "id": "opuaR_O1wnZc",
        "outputId": "186b7f8a-cfd8-488e-81ee-37467122a765"
      },
      "execution_count": 16,
      "outputs": [
        {
          "output_type": "stream",
          "name": "stdout",
          "text": [
            "Requirement already satisfied: openai in /usr/local/lib/python3.10/dist-packages (1.11.0)\n",
            "Requirement already satisfied: anyio<5,>=3.5.0 in /usr/local/lib/python3.10/dist-packages (from openai) (3.7.1)\n",
            "Requirement already satisfied: distro<2,>=1.7.0 in /usr/lib/python3/dist-packages (from openai) (1.7.0)\n",
            "Requirement already satisfied: httpx<1,>=0.23.0 in /usr/local/lib/python3.10/dist-packages (from openai) (0.26.0)\n",
            "Requirement already satisfied: pydantic<3,>=1.9.0 in /usr/local/lib/python3.10/dist-packages (from openai) (1.10.14)\n",
            "Requirement already satisfied: sniffio in /usr/local/lib/python3.10/dist-packages (from openai) (1.3.0)\n",
            "Requirement already satisfied: tqdm>4 in /usr/local/lib/python3.10/dist-packages (from openai) (4.66.1)\n",
            "Requirement already satisfied: typing-extensions<5,>=4.7 in /usr/local/lib/python3.10/dist-packages (from openai) (4.9.0)\n",
            "Requirement already satisfied: idna>=2.8 in /usr/local/lib/python3.10/dist-packages (from anyio<5,>=3.5.0->openai) (3.6)\n",
            "Requirement already satisfied: exceptiongroup in /usr/local/lib/python3.10/dist-packages (from anyio<5,>=3.5.0->openai) (1.2.0)\n",
            "Requirement already satisfied: certifi in /usr/local/lib/python3.10/dist-packages (from httpx<1,>=0.23.0->openai) (2023.11.17)\n",
            "Requirement already satisfied: httpcore==1.* in /usr/local/lib/python3.10/dist-packages (from httpx<1,>=0.23.0->openai) (1.0.2)\n",
            "Requirement already satisfied: h11<0.15,>=0.13 in /usr/local/lib/python3.10/dist-packages (from httpcore==1.*->httpx<1,>=0.23.0->openai) (0.14.0)\n"
          ]
        }
      ]
    },
    {
      "cell_type": "code",
      "source": [
        "data"
      ],
      "metadata": {
        "colab": {
          "base_uri": "https://localhost:8080/"
        },
        "id": "Imn-PdCd0ymD",
        "outputId": "49cef307-0dc8-4db7-a8ab-356e088f06f2"
      },
      "execution_count": 12,
      "outputs": [
        {
          "output_type": "execute_result",
          "data": {
            "text/plain": [
              "[Document(page_content='', metadata={'source': '/content/myprojectdata.json', 'seq_num': 1}),\n",
              " Document(page_content='', metadata={'source': '/content/myprojectdata.json', 'seq_num': 2}),\n",
              " Document(page_content='', metadata={'source': '/content/myprojectdata.json', 'seq_num': 3}),\n",
              " Document(page_content='', metadata={'source': '/content/myprojectdata.json', 'seq_num': 4}),\n",
              " Document(page_content='', metadata={'source': '/content/myprojectdata.json', 'seq_num': 5}),\n",
              " Document(page_content='', metadata={'source': '/content/myprojectdata.json', 'seq_num': 6}),\n",
              " Document(page_content='', metadata={'source': '/content/myprojectdata.json', 'seq_num': 7}),\n",
              " Document(page_content='', metadata={'source': '/content/myprojectdata.json', 'seq_num': 8}),\n",
              " Document(page_content='', metadata={'source': '/content/myprojectdata.json', 'seq_num': 9}),\n",
              " Document(page_content='', metadata={'source': '/content/myprojectdata.json', 'seq_num': 10}),\n",
              " Document(page_content='', metadata={'source': '/content/myprojectdata.json', 'seq_num': 11}),\n",
              " Document(page_content='', metadata={'source': '/content/myprojectdata.json', 'seq_num': 12}),\n",
              " Document(page_content='', metadata={'source': '/content/myprojectdata.json', 'seq_num': 13}),\n",
              " Document(page_content='', metadata={'source': '/content/myprojectdata.json', 'seq_num': 14}),\n",
              " Document(page_content='', metadata={'source': '/content/myprojectdata.json', 'seq_num': 15}),\n",
              " Document(page_content='', metadata={'source': '/content/myprojectdata.json', 'seq_num': 16}),\n",
              " Document(page_content='', metadata={'source': '/content/myprojectdata.json', 'seq_num': 17}),\n",
              " Document(page_content='', metadata={'source': '/content/myprojectdata.json', 'seq_num': 18}),\n",
              " Document(page_content='', metadata={'source': '/content/myprojectdata.json', 'seq_num': 19}),\n",
              " Document(page_content='', metadata={'source': '/content/myprojectdata.json', 'seq_num': 20}),\n",
              " Document(page_content='', metadata={'source': '/content/myprojectdata.json', 'seq_num': 21}),\n",
              " Document(page_content='', metadata={'source': '/content/myprojectdata.json', 'seq_num': 22}),\n",
              " Document(page_content='', metadata={'source': '/content/myprojectdata.json', 'seq_num': 23}),\n",
              " Document(page_content='', metadata={'source': '/content/myprojectdata.json', 'seq_num': 24}),\n",
              " Document(page_content='', metadata={'source': '/content/myprojectdata.json', 'seq_num': 25}),\n",
              " Document(page_content='', metadata={'source': '/content/myprojectdata.json', 'seq_num': 26}),\n",
              " Document(page_content='', metadata={'source': '/content/myprojectdata.json', 'seq_num': 27}),\n",
              " Document(page_content='', metadata={'source': '/content/myprojectdata.json', 'seq_num': 28}),\n",
              " Document(page_content='', metadata={'source': '/content/myprojectdata.json', 'seq_num': 29}),\n",
              " Document(page_content='', metadata={'source': '/content/myprojectdata.json', 'seq_num': 30}),\n",
              " Document(page_content='', metadata={'source': '/content/myprojectdata.json', 'seq_num': 31}),\n",
              " Document(page_content='', metadata={'source': '/content/myprojectdata.json', 'seq_num': 32}),\n",
              " Document(page_content='', metadata={'source': '/content/myprojectdata.json', 'seq_num': 33}),\n",
              " Document(page_content='', metadata={'source': '/content/myprojectdata.json', 'seq_num': 34}),\n",
              " Document(page_content='', metadata={'source': '/content/myprojectdata.json', 'seq_num': 35}),\n",
              " Document(page_content='', metadata={'source': '/content/myprojectdata.json', 'seq_num': 36}),\n",
              " Document(page_content='', metadata={'source': '/content/myprojectdata.json', 'seq_num': 37}),\n",
              " Document(page_content='', metadata={'source': '/content/myprojectdata.json', 'seq_num': 38}),\n",
              " Document(page_content='', metadata={'source': '/content/myprojectdata.json', 'seq_num': 39}),\n",
              " Document(page_content='', metadata={'source': '/content/myprojectdata.json', 'seq_num': 40}),\n",
              " Document(page_content='', metadata={'source': '/content/myprojectdata.json', 'seq_num': 41}),\n",
              " Document(page_content='', metadata={'source': '/content/myprojectdata.json', 'seq_num': 42}),\n",
              " Document(page_content='', metadata={'source': '/content/myprojectdata.json', 'seq_num': 43}),\n",
              " Document(page_content='', metadata={'source': '/content/myprojectdata.json', 'seq_num': 44}),\n",
              " Document(page_content='', metadata={'source': '/content/myprojectdata.json', 'seq_num': 45}),\n",
              " Document(page_content='', metadata={'source': '/content/myprojectdata.json', 'seq_num': 46}),\n",
              " Document(page_content='', metadata={'source': '/content/myprojectdata.json', 'seq_num': 47}),\n",
              " Document(page_content='', metadata={'source': '/content/myprojectdata.json', 'seq_num': 48}),\n",
              " Document(page_content='', metadata={'source': '/content/myprojectdata.json', 'seq_num': 49}),\n",
              " Document(page_content='', metadata={'source': '/content/myprojectdata.json', 'seq_num': 50}),\n",
              " Document(page_content='', metadata={'source': '/content/myprojectdata.json', 'seq_num': 51}),\n",
              " Document(page_content='', metadata={'source': '/content/myprojectdata.json', 'seq_num': 52}),\n",
              " Document(page_content='', metadata={'source': '/content/myprojectdata.json', 'seq_num': 53}),\n",
              " Document(page_content='', metadata={'source': '/content/myprojectdata.json', 'seq_num': 54}),\n",
              " Document(page_content='', metadata={'source': '/content/myprojectdata.json', 'seq_num': 55}),\n",
              " Document(page_content='', metadata={'source': '/content/myprojectdata.json', 'seq_num': 56}),\n",
              " Document(page_content='', metadata={'source': '/content/myprojectdata.json', 'seq_num': 57}),\n",
              " Document(page_content='', metadata={'source': '/content/myprojectdata.json', 'seq_num': 58}),\n",
              " Document(page_content='', metadata={'source': '/content/myprojectdata.json', 'seq_num': 59}),\n",
              " Document(page_content='', metadata={'source': '/content/myprojectdata.json', 'seq_num': 60}),\n",
              " Document(page_content='', metadata={'source': '/content/myprojectdata.json', 'seq_num': 61}),\n",
              " Document(page_content='', metadata={'source': '/content/myprojectdata.json', 'seq_num': 62}),\n",
              " Document(page_content='', metadata={'source': '/content/myprojectdata.json', 'seq_num': 63}),\n",
              " Document(page_content='', metadata={'source': '/content/myprojectdata.json', 'seq_num': 64}),\n",
              " Document(page_content='', metadata={'source': '/content/myprojectdata.json', 'seq_num': 65}),\n",
              " Document(page_content='', metadata={'source': '/content/myprojectdata.json', 'seq_num': 66}),\n",
              " Document(page_content='', metadata={'source': '/content/myprojectdata.json', 'seq_num': 67}),\n",
              " Document(page_content='', metadata={'source': '/content/myprojectdata.json', 'seq_num': 68}),\n",
              " Document(page_content='', metadata={'source': '/content/myprojectdata.json', 'seq_num': 69}),\n",
              " Document(page_content='', metadata={'source': '/content/myprojectdata.json', 'seq_num': 70}),\n",
              " Document(page_content='', metadata={'source': '/content/myprojectdata.json', 'seq_num': 71}),\n",
              " Document(page_content='', metadata={'source': '/content/myprojectdata.json', 'seq_num': 72}),\n",
              " Document(page_content='', metadata={'source': '/content/myprojectdata.json', 'seq_num': 73}),\n",
              " Document(page_content='', metadata={'source': '/content/myprojectdata.json', 'seq_num': 74}),\n",
              " Document(page_content='', metadata={'source': '/content/myprojectdata.json', 'seq_num': 75}),\n",
              " Document(page_content='', metadata={'source': '/content/myprojectdata.json', 'seq_num': 76}),\n",
              " Document(page_content='', metadata={'source': '/content/myprojectdata.json', 'seq_num': 77}),\n",
              " Document(page_content='', metadata={'source': '/content/myprojectdata.json', 'seq_num': 78}),\n",
              " Document(page_content='', metadata={'source': '/content/myprojectdata.json', 'seq_num': 79}),\n",
              " Document(page_content='', metadata={'source': '/content/myprojectdata.json', 'seq_num': 80}),\n",
              " Document(page_content='', metadata={'source': '/content/myprojectdata.json', 'seq_num': 81}),\n",
              " Document(page_content='', metadata={'source': '/content/myprojectdata.json', 'seq_num': 82}),\n",
              " Document(page_content='', metadata={'source': '/content/myprojectdata.json', 'seq_num': 83}),\n",
              " Document(page_content='', metadata={'source': '/content/myprojectdata.json', 'seq_num': 84}),\n",
              " Document(page_content='', metadata={'source': '/content/myprojectdata.json', 'seq_num': 85}),\n",
              " Document(page_content='', metadata={'source': '/content/myprojectdata.json', 'seq_num': 86}),\n",
              " Document(page_content='', metadata={'source': '/content/myprojectdata.json', 'seq_num': 87}),\n",
              " Document(page_content='', metadata={'source': '/content/myprojectdata.json', 'seq_num': 88}),\n",
              " Document(page_content='', metadata={'source': '/content/myprojectdata.json', 'seq_num': 89}),\n",
              " Document(page_content='', metadata={'source': '/content/myprojectdata.json', 'seq_num': 90}),\n",
              " Document(page_content='', metadata={'source': '/content/myprojectdata.json', 'seq_num': 91}),\n",
              " Document(page_content='', metadata={'source': '/content/myprojectdata.json', 'seq_num': 92}),\n",
              " Document(page_content='', metadata={'source': '/content/myprojectdata.json', 'seq_num': 93}),\n",
              " Document(page_content='', metadata={'source': '/content/myprojectdata.json', 'seq_num': 94}),\n",
              " Document(page_content='', metadata={'source': '/content/myprojectdata.json', 'seq_num': 95}),\n",
              " Document(page_content='', metadata={'source': '/content/myprojectdata.json', 'seq_num': 96}),\n",
              " Document(page_content='', metadata={'source': '/content/myprojectdata.json', 'seq_num': 97}),\n",
              " Document(page_content='', metadata={'source': '/content/myprojectdata.json', 'seq_num': 98}),\n",
              " Document(page_content='', metadata={'source': '/content/myprojectdata.json', 'seq_num': 99}),\n",
              " Document(page_content='', metadata={'source': '/content/myprojectdata.json', 'seq_num': 100}),\n",
              " Document(page_content='', metadata={'source': '/content/myprojectdata.json', 'seq_num': 101}),\n",
              " Document(page_content='', metadata={'source': '/content/myprojectdata.json', 'seq_num': 102}),\n",
              " Document(page_content='', metadata={'source': '/content/myprojectdata.json', 'seq_num': 103}),\n",
              " Document(page_content='', metadata={'source': '/content/myprojectdata.json', 'seq_num': 104}),\n",
              " Document(page_content='', metadata={'source': '/content/myprojectdata.json', 'seq_num': 105}),\n",
              " Document(page_content='', metadata={'source': '/content/myprojectdata.json', 'seq_num': 106}),\n",
              " Document(page_content='', metadata={'source': '/content/myprojectdata.json', 'seq_num': 107}),\n",
              " Document(page_content='', metadata={'source': '/content/myprojectdata.json', 'seq_num': 108}),\n",
              " Document(page_content='', metadata={'source': '/content/myprojectdata.json', 'seq_num': 109}),\n",
              " Document(page_content='', metadata={'source': '/content/myprojectdata.json', 'seq_num': 110}),\n",
              " Document(page_content='', metadata={'source': '/content/myprojectdata.json', 'seq_num': 111}),\n",
              " Document(page_content='', metadata={'source': '/content/myprojectdata.json', 'seq_num': 112}),\n",
              " Document(page_content='', metadata={'source': '/content/myprojectdata.json', 'seq_num': 113}),\n",
              " Document(page_content='', metadata={'source': '/content/myprojectdata.json', 'seq_num': 114}),\n",
              " Document(page_content='', metadata={'source': '/content/myprojectdata.json', 'seq_num': 115}),\n",
              " Document(page_content='', metadata={'source': '/content/myprojectdata.json', 'seq_num': 116}),\n",
              " Document(page_content='', metadata={'source': '/content/myprojectdata.json', 'seq_num': 117}),\n",
              " Document(page_content='', metadata={'source': '/content/myprojectdata.json', 'seq_num': 118}),\n",
              " Document(page_content='', metadata={'source': '/content/myprojectdata.json', 'seq_num': 119}),\n",
              " Document(page_content='', metadata={'source': '/content/myprojectdata.json', 'seq_num': 120}),\n",
              " Document(page_content='', metadata={'source': '/content/myprojectdata.json', 'seq_num': 121}),\n",
              " Document(page_content='', metadata={'source': '/content/myprojectdata.json', 'seq_num': 122}),\n",
              " Document(page_content='', metadata={'source': '/content/myprojectdata.json', 'seq_num': 123}),\n",
              " Document(page_content='', metadata={'source': '/content/myprojectdata.json', 'seq_num': 124}),\n",
              " Document(page_content='', metadata={'source': '/content/myprojectdata.json', 'seq_num': 125}),\n",
              " Document(page_content='', metadata={'source': '/content/myprojectdata.json', 'seq_num': 126}),\n",
              " Document(page_content='', metadata={'source': '/content/myprojectdata.json', 'seq_num': 127}),\n",
              " Document(page_content='', metadata={'source': '/content/myprojectdata.json', 'seq_num': 128}),\n",
              " Document(page_content='', metadata={'source': '/content/myprojectdata.json', 'seq_num': 129}),\n",
              " Document(page_content='', metadata={'source': '/content/myprojectdata.json', 'seq_num': 130}),\n",
              " Document(page_content='', metadata={'source': '/content/myprojectdata.json', 'seq_num': 131}),\n",
              " Document(page_content='', metadata={'source': '/content/myprojectdata.json', 'seq_num': 132}),\n",
              " Document(page_content='', metadata={'source': '/content/myprojectdata.json', 'seq_num': 133}),\n",
              " Document(page_content='', metadata={'source': '/content/myprojectdata.json', 'seq_num': 134}),\n",
              " Document(page_content='', metadata={'source': '/content/myprojectdata.json', 'seq_num': 135}),\n",
              " Document(page_content='', metadata={'source': '/content/myprojectdata.json', 'seq_num': 136}),\n",
              " Document(page_content='', metadata={'source': '/content/myprojectdata.json', 'seq_num': 137}),\n",
              " Document(page_content='', metadata={'source': '/content/myprojectdata.json', 'seq_num': 138}),\n",
              " Document(page_content='', metadata={'source': '/content/myprojectdata.json', 'seq_num': 139}),\n",
              " Document(page_content='', metadata={'source': '/content/myprojectdata.json', 'seq_num': 140}),\n",
              " Document(page_content='', metadata={'source': '/content/myprojectdata.json', 'seq_num': 141}),\n",
              " Document(page_content='', metadata={'source': '/content/myprojectdata.json', 'seq_num': 142})]"
            ]
          },
          "metadata": {},
          "execution_count": 12
        }
      ]
    },
    {
      "cell_type": "code",
      "source": [
        "\n",
        "pip install sentence-transformers==2.2.2"
      ],
      "metadata": {
        "colab": {
          "base_uri": "https://localhost:8080/",
          "height": 946
        },
        "id": "QXRcGur31-pV",
        "outputId": "9eb5fa32-1f25-4bd6-8ccc-c53e87a4f7db"
      },
      "execution_count": 37,
      "outputs": [
        {
          "output_type": "stream",
          "name": "stdout",
          "text": [
            "Collecting sentence-transformers==2.2.2\n",
            "  Downloading sentence-transformers-2.2.2.tar.gz (85 kB)\n",
            "\u001b[?25l     \u001b[90m━━━━━━━━━━━━━━━━━━━━━━━━━━━━━━━━━━━━━━━━\u001b[0m \u001b[32m0.0/86.0 kB\u001b[0m \u001b[31m?\u001b[0m eta \u001b[36m-:--:--\u001b[0m\r\u001b[2K     \u001b[90m━━━━━━━━━━━━━━━━━━━━━━━━━━━━━━━━━━━━━━━━\u001b[0m \u001b[32m86.0/86.0 kB\u001b[0m \u001b[31m2.6 MB/s\u001b[0m eta \u001b[36m0:00:00\u001b[0m\n",
            "\u001b[?25h  Preparing metadata (setup.py) ... \u001b[?25l\u001b[?25hdone\n",
            "Requirement already satisfied: transformers<5.0.0,>=4.6.0 in /usr/local/lib/python3.10/dist-packages (from sentence-transformers==2.2.2) (4.35.2)\n",
            "Requirement already satisfied: tqdm in /usr/local/lib/python3.10/dist-packages (from sentence-transformers==2.2.2) (4.66.1)\n",
            "Requirement already satisfied: torch>=1.6.0 in /usr/local/lib/python3.10/dist-packages (from sentence-transformers==2.2.2) (2.1.0+cu121)\n",
            "Requirement already satisfied: torchvision in /usr/local/lib/python3.10/dist-packages (from sentence-transformers==2.2.2) (0.16.0+cu121)\n",
            "Requirement already satisfied: numpy in /usr/local/lib/python3.10/dist-packages (from sentence-transformers==2.2.2) (1.23.5)\n",
            "Requirement already satisfied: scikit-learn in /usr/local/lib/python3.10/dist-packages (from sentence-transformers==2.2.2) (1.2.2)\n",
            "Requirement already satisfied: scipy in /usr/local/lib/python3.10/dist-packages (from sentence-transformers==2.2.2) (1.11.4)\n",
            "Requirement already satisfied: nltk in /usr/local/lib/python3.10/dist-packages (from sentence-transformers==2.2.2) (3.8.1)\n",
            "Requirement already satisfied: sentencepiece in /usr/local/lib/python3.10/dist-packages (from sentence-transformers==2.2.2) (0.1.99)\n",
            "Requirement already satisfied: huggingface-hub>=0.4.0 in /usr/local/lib/python3.10/dist-packages (from sentence-transformers==2.2.2) (0.20.3)\n",
            "Requirement already satisfied: filelock in /usr/local/lib/python3.10/dist-packages (from huggingface-hub>=0.4.0->sentence-transformers==2.2.2) (3.13.1)\n",
            "Requirement already satisfied: fsspec>=2023.5.0 in /usr/local/lib/python3.10/dist-packages (from huggingface-hub>=0.4.0->sentence-transformers==2.2.2) (2023.6.0)\n",
            "Requirement already satisfied: requests in /usr/local/lib/python3.10/dist-packages (from huggingface-hub>=0.4.0->sentence-transformers==2.2.2) (2.31.0)\n",
            "Requirement already satisfied: pyyaml>=5.1 in /usr/local/lib/python3.10/dist-packages (from huggingface-hub>=0.4.0->sentence-transformers==2.2.2) (6.0.1)\n",
            "Requirement already satisfied: typing-extensions>=3.7.4.3 in /usr/local/lib/python3.10/dist-packages (from huggingface-hub>=0.4.0->sentence-transformers==2.2.2) (4.9.0)\n",
            "Requirement already satisfied: packaging>=20.9 in /usr/local/lib/python3.10/dist-packages (from huggingface-hub>=0.4.0->sentence-transformers==2.2.2) (23.2)\n",
            "Requirement already satisfied: sympy in /usr/local/lib/python3.10/dist-packages (from torch>=1.6.0->sentence-transformers==2.2.2) (1.12)\n",
            "Requirement already satisfied: networkx in /usr/local/lib/python3.10/dist-packages (from torch>=1.6.0->sentence-transformers==2.2.2) (3.2.1)\n",
            "Requirement already satisfied: jinja2 in /usr/local/lib/python3.10/dist-packages (from torch>=1.6.0->sentence-transformers==2.2.2) (3.1.3)\n",
            "Requirement already satisfied: triton==2.1.0 in /usr/local/lib/python3.10/dist-packages (from torch>=1.6.0->sentence-transformers==2.2.2) (2.1.0)\n",
            "Requirement already satisfied: regex!=2019.12.17 in /usr/local/lib/python3.10/dist-packages (from transformers<5.0.0,>=4.6.0->sentence-transformers==2.2.2) (2023.12.25)\n",
            "Requirement already satisfied: tokenizers<0.19,>=0.14 in /usr/local/lib/python3.10/dist-packages (from transformers<5.0.0,>=4.6.0->sentence-transformers==2.2.2) (0.15.1)\n",
            "Requirement already satisfied: safetensors>=0.3.1 in /usr/local/lib/python3.10/dist-packages (from transformers<5.0.0,>=4.6.0->sentence-transformers==2.2.2) (0.4.2)\n",
            "Requirement already satisfied: click in /usr/local/lib/python3.10/dist-packages (from nltk->sentence-transformers==2.2.2) (8.1.7)\n",
            "Requirement already satisfied: joblib in /usr/local/lib/python3.10/dist-packages (from nltk->sentence-transformers==2.2.2) (1.3.2)\n",
            "Requirement already satisfied: threadpoolctl>=2.0.0 in /usr/local/lib/python3.10/dist-packages (from scikit-learn->sentence-transformers==2.2.2) (3.2.0)\n",
            "Requirement already satisfied: pillow!=8.3.*,>=5.3.0 in /usr/local/lib/python3.10/dist-packages (from torchvision->sentence-transformers==2.2.2) (9.4.0)\n",
            "Requirement already satisfied: MarkupSafe>=2.0 in /usr/local/lib/python3.10/dist-packages (from jinja2->torch>=1.6.0->sentence-transformers==2.2.2) (2.1.4)\n",
            "Requirement already satisfied: charset-normalizer<4,>=2 in /usr/local/lib/python3.10/dist-packages (from requests->huggingface-hub>=0.4.0->sentence-transformers==2.2.2) (3.3.2)\n",
            "Requirement already satisfied: idna<4,>=2.5 in /usr/local/lib/python3.10/dist-packages (from requests->huggingface-hub>=0.4.0->sentence-transformers==2.2.2) (3.6)\n",
            "Requirement already satisfied: urllib3<3,>=1.21.1 in /usr/local/lib/python3.10/dist-packages (from requests->huggingface-hub>=0.4.0->sentence-transformers==2.2.2) (2.0.7)\n",
            "Requirement already satisfied: certifi>=2017.4.17 in /usr/local/lib/python3.10/dist-packages (from requests->huggingface-hub>=0.4.0->sentence-transformers==2.2.2) (2023.11.17)\n",
            "Requirement already satisfied: mpmath>=0.19 in /usr/local/lib/python3.10/dist-packages (from sympy->torch>=1.6.0->sentence-transformers==2.2.2) (1.3.0)\n",
            "Building wheels for collected packages: sentence-transformers\n",
            "  Building wheel for sentence-transformers (setup.py) ... \u001b[?25l\u001b[?25hdone\n",
            "  Created wheel for sentence-transformers: filename=sentence_transformers-2.2.2-py3-none-any.whl size=125923 sha256=fb967855456d2f393f6c015e9aafc707cdeb8055485f0d1c7179d6b92a9759ce\n",
            "  Stored in directory: /root/.cache/pip/wheels/62/f2/10/1e606fd5f02395388f74e7462910fe851042f97238cbbd902f\n",
            "Successfully built sentence-transformers\n",
            "Installing collected packages: sentence-transformers\n",
            "  Attempting uninstall: sentence-transformers\n",
            "    Found existing installation: sentence-transformers 2.3.1\n",
            "    Uninstalling sentence-transformers-2.3.1:\n",
            "      Successfully uninstalled sentence-transformers-2.3.1\n",
            "Successfully installed sentence-transformers-2.2.2\n"
          ]
        },
        {
          "output_type": "display_data",
          "data": {
            "application/vnd.colab-display-data+json": {
              "pip_warning": {
                "packages": [
                  "sentence_transformers"
                ]
              }
            }
          },
          "metadata": {}
        }
      ]
    },
    {
      "cell_type": "code",
      "source": [],
      "metadata": {
        "id": "KImwUx0NJxOB"
      },
      "execution_count": null,
      "outputs": []
    },
    {
      "cell_type": "code",
      "source": [
        "import requests\n",
        "from bs4 import BeautifulSoup\n",
        "import json\n",
        "# url='https://knovatekinc.com/'\n",
        "response = requests.get('https://knovatekinc.com/')\n",
        "print(response)\n",
        "print(response.status_code)\n",
        "#parsing html using Beautiful soup\n",
        "soup = BeautifulSoup(response.content, 'html.parser')"
      ],
      "metadata": {
        "id": "lJ3A66sVJ29y"
      },
      "execution_count": null,
      "outputs": []
    },
    {
      "cell_type": "code",
      "source": [
        "mylist=[]\n",
        "for i in soup.find_all('div',class_='elementor-widget-container'):\n",
        "    try:\n",
        "        mylist.append((i.text.strip()))\n",
        "    except:\n",
        "        pass"
      ],
      "metadata": {
        "id": "-wU0ffRjJ405"
      },
      "execution_count": null,
      "outputs": []
    },
    {
      "cell_type": "code",
      "source": [
        "mylist=mylist[39:]\n",
        "myfinal_list=mylist[0:27]\n",
        "myfinal_list"
      ],
      "metadata": {
        "id": "ZVljEyOEJ7i5"
      },
      "execution_count": null,
      "outputs": []
    },
    {
      "cell_type": "code",
      "source": [
        "# Using len() method\n",
        "for i in myfinal_list:\n",
        "    if(len(i)==0):\n",
        "        myfinal_list.remove(i)\n",
        "print(\"After removing empty strings from the list:\",myfinal_list)"
      ],
      "metadata": {
        "id": "oqzJ7cipJ9fo"
      },
      "execution_count": null,
      "outputs": []
    },
    {
      "cell_type": "code",
      "source": [
        "key_numbers = [y for x,y in enumerate(myfinal_list) if x%2 != 0]\n",
        "value_numbers = [y for x,y in enumerate(myfinal_list) if x%2 == 0]\n",
        "value_numbers.pop()\n",
        "FIRST_user_json=[{'service': value_numbers, 'service': key_numbers} for value_numbers, key_numbers in zip(value_numbers, key_numbers)]\n",
        "FIRST_user_json"
      ],
      "metadata": {
        "id": "MAHk_A2dJ_SQ"
      },
      "execution_count": null,
      "outputs": []
    },
    {
      "cell_type": "code",
      "source": [
        "a_keys=[]\n",
        "b_values=[]\n",
        "\n",
        "all_links=soup.find_all('div',class_=\"elementor-shortcode\")\n",
        "for i in all_links:\n",
        "    try:\n",
        "        a_keys.append((i.find().text))\n",
        "    except:\n",
        "        pass\n",
        "\n",
        "all_links=soup.find_all('div',class_=\"elementor-widget-container\")\n",
        "for i in all_links:\n",
        "    try:\n",
        "        b_values.append((i.find('h3').text))\n",
        "    except:\n",
        "        pass"
      ],
      "metadata": {
        "id": "ON4UeU8_KCFR"
      },
      "execution_count": null,
      "outputs": []
    },
    {
      "cell_type": "code",
      "source": [
        "#extracting and saving important details key-pair\n",
        "\n",
        "b_values\n",
        "b_values=b_values[12:]\n",
        "b_values=b_values[1:]\n",
        "b_values=b_values[0:9]\n",
        "b_values"
      ],
      "metadata": {
        "id": "FAGxtK1YKEWw"
      },
      "execution_count": null,
      "outputs": []
    },
    {
      "cell_type": "code",
      "source": [
        "user_json=[{'service': user, 'service': comments} for comments, user in zip(a_keys, b_values)]"
      ],
      "metadata": {
        "id": "YieDtRPLKGVJ"
      },
      "execution_count": null,
      "outputs": []
    },
    {
      "cell_type": "code",
      "source": [
        "mylist=[]\n",
        "for i in soup.find_all('div',class_='elementor-widget-container'):\n",
        "    try:\n",
        "        mylist.append((i.text.strip()))\n",
        "    except:\n",
        "        pass\n",
        "\n",
        "mylist_u=mylist[156:164]\n",
        "for i in mylist_u:\n",
        "    if len(i)==0:\n",
        "        mylist_u.remove(i)\n",
        "mylist_u=mylist_u[1:]"
      ],
      "metadata": {
        "id": "AB4UB9HZKIlh"
      },
      "execution_count": null,
      "outputs": []
    },
    {
      "cell_type": "code",
      "source": [
        "keys=[]\n",
        "values=[]\n",
        "vals = [y for x,y in enumerate(mylist_u) if x%2 != 0]\n",
        "keys = [y for x,y in enumerate(mylist_u) if x%2 == 0]"
      ],
      "metadata": {
        "id": "K7yX8-sxKK8J"
      },
      "execution_count": null,
      "outputs": []
    },
    {
      "cell_type": "code",
      "source": [
        "json_3=[{'service':keys,'service':values} for keys,values in zip(keys,vals)]"
      ],
      "metadata": {
        "id": "4wxb_yWeKNF4"
      },
      "execution_count": null,
      "outputs": []
    },
    {
      "cell_type": "code",
      "source": [
        "final_json=FIRST_user_json+json_3+user_json"
      ],
      "metadata": {
        "id": "6AW1BTSSKPSo"
      },
      "execution_count": null,
      "outputs": []
    },
    {
      "cell_type": "code",
      "source": [
        "contacts=[]\n",
        "for i in soup.find_all('a'):\n",
        "    contacts.append((i.text.strip()))\n",
        "    contacts.append(i.get('href'))\n",
        "contacts=contacts[2:]\n",
        "vals = [y for x,y in enumerate(contacts) if x%2 != 0]\n",
        "keys = [y for x,y in enumerate(contacts) if x%2 == 0]\n",
        "\n",
        "json_2=[{'service': keys, 'service': vals} for keys, vals in zip(keys, vals)]"
      ],
      "metadata": {
        "id": "fITaiGukKRr4"
      },
      "execution_count": null,
      "outputs": []
    },
    {
      "cell_type": "code",
      "source": [
        "final_json=final_json+json_2"
      ],
      "metadata": {
        "id": "btmtq3S6KT1Y"
      },
      "execution_count": null,
      "outputs": []
    },
    {
      "cell_type": "code",
      "source": [
        "import json\n",
        "try:\n",
        "    with open('myprojectdatanew.json', 'w', encoding='utf-8') as f:\n",
        "        json.dump(final_json, f, ensure_ascii=False, indent=4)\n",
        "except Exception as e:\n",
        "    print(f'error {e} occured')\n",
        "else:\n",
        "    print('Json loading Done Sucsess..')"
      ],
      "metadata": {
        "id": "E8afTlUJKWCp"
      },
      "execution_count": null,
      "outputs": []
    },
    {
      "cell_type": "code",
      "source": [
        "from langchain.chains import RetrievalQA\n",
        "from langchain.document_loaders import TextLoader\n",
        "from langchain.embeddings.openai import OpenAIEmbeddings\n",
        "from langchain.llms import OpenAI\n",
        "from langchain.text_splitter import CharacterTextSplitter\n",
        "from langchain.vectorstores import Chroma\n",
        "from langchain.document_loaders import JSONLoader\n",
        "\n",
        "loader = JSONLoader(\n",
        "    file_path='/content/myprojectdatanew.json',\n",
        "    text_content=False,\n",
        "    jq_schema='.[].service')\n",
        "\n",
        "data = loader.load()\n",
        "\n",
        "text_splitter = CharacterTextSplitter(chunk_size=1000, chunk_overlap=0)\n",
        "texts = text_splitter.split_documents(data)\n",
        "print(texts)\n",
        "embeddings = OpenAIEmbeddings(openai_api_key='')\n",
        "llm = OpenAI(openai_api_key='')\n",
        "docsearch = Chroma.from_documents(texts, embeddings)\n",
        "\n",
        "qa = RetrievalQA.from_chain_type(llm=llm, chain_type=\"stuff\", retriever=docsearch.as_retriever())"
      ],
      "metadata": {
        "colab": {
          "base_uri": "https://localhost:8080/"
        },
        "id": "OGMWdUH56E0d",
        "outputId": "8bd46c9a-f680-4e04-89ff-f0038fa9b6be"
      },
      "execution_count": 53,
      "outputs": [
        {
          "output_type": "stream",
          "name": "stdout",
          "text": [
            "[Document(page_content='We provide comprehensive branding services to help you create a powerful and lasting impression. Our team of experts will help you define and refine your brand, create a unique look and feel, and build a strong, recognizable presence in the market.', metadata={'source': '/content/myprojectdatanew.json', 'seq_num': 1}), Document(page_content='Knovatek Inc also helps businesses reach their target audience and achieve their marketing goals through various online channels. We provide services for SEO, SMM, SEM, Email marketing and Content marketing for best results.', metadata={'source': '/content/myprojectdatanew.json', 'seq_num': 2}), Document(page_content='Knovatek Inc is a leading mobile application development company that specializes in creating cutting-edge apps for Android, iOS, and Flutter platforms. Our team of developers and designers leverage their expertise in the latest technologies.', metadata={'source': '/content/myprojectdatanew.json', 'seq_num': 3}), Document(page_content='Knovatek Inc is a web development company specializing in creating dynamic and engaging websites and web applications using a variety of programming languages and frameworks.', metadata={'source': '/content/myprojectdatanew.json', 'seq_num': 4}), Document(page_content='AI services help automate processes and improve accuracy. Our services include machine learning, natural language processing, and computer vision. We can help you leverage AI to build smarter products and services.', metadata={'source': '/content/myprojectdatanew.json', 'seq_num': 5}), Document(page_content='We provide DevOps services which provide automation, scalability, and reliability in the software development process. They enable businesses to move quickly and efficiently while maintaining quality.', metadata={'source': '/content/myprojectdatanew.json', 'seq_num': 6}), Document(page_content='Our team of seasoned professionals specializes in lead generation, customer acquisition, and crafting persuasive sales pitches that captivate your target audience. From initial contact to deal closure, we bring expertise to every interaction.', metadata={'source': '/content/myprojectdatanew.json', 'seq_num': 7}), Document(page_content='We empower businesses with limitless potential. Discover the transformative impact of our dedicated remote professionals as they drive your business forward, opening new doors to success.', metadata={'source': '/content/myprojectdatanew.json', 'seq_num': 8}), Document(page_content='The success of your website relies on its smooth, secure, and reliable performance. We provide you with peace of mind, allowing you to focus on your core business while we take care of the technical aspects.', metadata={'source': '/content/myprojectdatanew.json', 'seq_num': 9}), Document(page_content='amitgarg87@gmail.com', metadata={'source': '/content/myprojectdatanew.json', 'seq_num': 10}), Document(page_content='priyankagarg7193@gmail.com', metadata={'source': '/content/myprojectdatanew.json', 'seq_num': 11}), Document(page_content='\"I’ve been working with Novatek for almost a year now to improve the SEOs of my business website and increase traffic. Amit and his team work really hard : we meet twice a month to share and discuss the detailed results of the bimonthly report. [...]\" I’ve been working with Novatek for almost a year now to improve the SEOs of my business website and increase traffic. Amit and his team work really hard : we meet twice a month to share and discuss the detailed results of the bimonthly report. They always provide information when needed, the team is always reachable. Amit has been very responsive to the tiniest detail and he goes the extra mile to make sure my buisness requirements are met. I’ve been seeing positive results ; my business is being found organically on the web which prooves that their way really works ! Recommended.', metadata={'source': '/content/myprojectdatanew.json', 'seq_num': 12}), Document(page_content='\"I’ve worked with a number of development companies and none of them compare to Knovatek when it comes to professionalism, communication, creativity, efficiency and talent. I would strongly recommend them to any business looking to build a dynam [...]\" I’ve worked with a number of development companies and none of them compare to Knovatek when it comes to professionalism, communication, creativity, efficiency and talent. I would strongly recommend them to any business looking to build a dynamic website or application. They have exceeded all of my expectations and my company owes a great deal of its success to their hard work. We look forward to continue working with them on future projects. Feel free to contact me if you need more convincing!', metadata={'source': '/content/myprojectdatanew.json', 'seq_num': 13}), Document(page_content='\"If you need any coding needs look no further. This company is one of a kind. The Head of this company is one of the most professional and responsive people I have ever had the pleasure of working with. If I could give them 10 stars I would. They are [...]\" If you need any coding needs look no further. This company is one of a kind. The Head of this company is one of the most professional and responsive people I have ever had the pleasure of working with. If I could give them 10 stars I would. They are elite.', metadata={'source': '/content/myprojectdatanew.json', 'seq_num': 14}), Document(page_content='\"Amit and his team are professional, efficient and very knowledgeable. He has created several websites for my projects and clients and they were all vibrantly designed, functionable with a short turn around time. If you are looking to get fantastic qu [...]\" Amit and his team are professional, efficient and very knowledgeable. He has created several websites for my projects and clients and they were all vibrantly designed, functionable with a short turn around time. If you are looking to get fantastic quality work with a dedicated team. I would recommend Knovatek.', metadata={'source': '/content/myprojectdatanew.json', 'seq_num': 15}), Document(page_content='\"Top quality all around. I was pleased that the products we discussed were created on time and were quality. When making the software better, feedback given to the team was taken and implemented accordingly. The owners are very friendly, humorous and [...]\" Top quality all around. I was pleased that the products we discussed were created on time and were quality. When making the software better, feedback given to the team was taken and implemented accordingly. The owners are very friendly, humorous and ppsitive. That made our meetings parts in my day to look forward to. I totally recommend Knovatek.', metadata={'source': '/content/myprojectdatanew.json', 'seq_num': 16}), Document(page_content='\"I have been working with Knovatek for about a year now. They upgraded my website and consistently help with updates and changes. They are easy to communicate with, very prompt in completing projects, and are very competitive with pricing. In addition [...]\" I have been working with Knovatek for about a year now. They upgraded my website and consistently help with updates and changes. They are easy to communicate with, very prompt in completing projects, and are very competitive with pricing. In addition to website management, they are very quick with small projects with digital work and document building. I highly recommend using Knovatek!', metadata={'source': '/content/myprojectdatanew.json', 'seq_num': 17}), Document(page_content='\"My company had Amit and his team build a web-based, client facing service. I am not very technical in the aspects and capabilities of web design and building, and didn’t know if the features I was requesting were even possible. But everything I req [...]\" My company had Amit and his team build a web-based, client facing service. I am not very technical in the aspects and capabilities of web design and building, and didn’t know if the features I was requesting were even possible. But everything I requested, they were able to convert to functionality. The level of engagement was very professional and timely follow ups were never an issue. The delivery times were reasonably met. The pricing was very fair. I plan to use the services again, and would have no issues recommending his services to others.', metadata={'source': '/content/myprojectdatanew.json', 'seq_num': 18}), Document(page_content='\"Knovatek is one of the best in the business…they are very professional and easy to work it…they really help making our project come to life…i strongly recommend these guys…thanks again Amit [...]\" Knovatek is one of the best in the business…they are very professional and easy to work it…they really help making our project come to life…i strongly recommend these guys…thanks again Amit', metadata={'source': '/content/myprojectdatanew.json', 'seq_num': 19}), Document(page_content='\"I worked with Amit at Knovatek Inc on the creation of my website for my business, Hidden Gem Home Staging & Design. He was (and continues to be!) an insightful and helpful resource that made the process stress-free, easy and enjoyable. He was ver [...]\" I worked with Amit at Knovatek Inc on the creation of my website for my business, Hidden Gem Home Staging & Design. He was (and continues to be!) an insightful and helpful resource that made the process stress-free, easy and enjoyable. He was very patient with my many, MANY questions and worked to ensure that my website had the look and capabilities that I needed. I would absolutely recommend him to anyone that is looking for a great experience building a website!', metadata={'source': '/content/myprojectdatanew.json', 'seq_num': 20}), Document(page_content='https://knovatekinc.com/schedule-a-call/', metadata={'source': '/content/myprojectdatanew.json', 'seq_num': 21}), Document(page_content='tel:+1 416-219-6011', metadata={'source': '/content/myprojectdatanew.json', 'seq_num': 22}), Document(page_content='https://knovatekinc.com', metadata={'source': '/content/myprojectdatanew.json', 'seq_num': 23}), Document(page_content='https://knovatekinc.com/', metadata={'source': '/content/myprojectdatanew.json', 'seq_num': 24}), Document(page_content='https://knovatekinc.com/about-us/', metadata={'source': '/content/myprojectdatanew.json', 'seq_num': 25}), Document(page_content='https://knovatekinc.com/services/', metadata={'source': '/content/myprojectdatanew.json', 'seq_num': 26}), Document(page_content='https://knovatekinc.com/branding/', metadata={'source': '/content/myprojectdatanew.json', 'seq_num': 27}), Document(page_content='https://knovatekinc.com/digital-marketing/', metadata={'source': '/content/myprojectdatanew.json', 'seq_num': 28}), Document(page_content='https://knovatekinc.com/mobile-app-development/', metadata={'source': '/content/myprojectdatanew.json', 'seq_num': 29}), Document(page_content='https://knovatekinc.com/website-design-development/', metadata={'source': '/content/myprojectdatanew.json', 'seq_num': 30}), Document(page_content='https://knovatekinc.com/artificial-intelligence/', metadata={'source': '/content/myprojectdatanew.json', 'seq_num': 31}), Document(page_content='https://knovatekinc.com/devops-services/', metadata={'source': '/content/myprojectdatanew.json', 'seq_num': 32}), Document(page_content='https://knovatekinc.com/branding/', metadata={'source': '/content/myprojectdatanew.json', 'seq_num': 33}), Document(page_content='https://knovatekinc.com/branding/', metadata={'source': '/content/myprojectdatanew.json', 'seq_num': 34}), Document(page_content='https://knovatekinc.com/digital-marketing/', metadata={'source': '/content/myprojectdatanew.json', 'seq_num': 35}), Document(page_content='https://knovatekinc.com/digital-marketing/', metadata={'source': '/content/myprojectdatanew.json', 'seq_num': 36}), Document(page_content='https://knovatekinc.com/mobile-app-development/', metadata={'source': '/content/myprojectdatanew.json', 'seq_num': 37}), Document(page_content='https://knovatekinc.com/mobile-app-development/', metadata={'source': '/content/myprojectdatanew.json', 'seq_num': 38}), Document(page_content='https://knovatekinc.com/website-design-development/', metadata={'source': '/content/myprojectdatanew.json', 'seq_num': 39}), Document(page_content='https://knovatekinc.com/website-design-development/', metadata={'source': '/content/myprojectdatanew.json', 'seq_num': 40}), Document(page_content='https://knovatekinc.com/artificial-intelligence/', metadata={'source': '/content/myprojectdatanew.json', 'seq_num': 41}), Document(page_content='https://knovatekinc.com/artificial-intelligence/', metadata={'source': '/content/myprojectdatanew.json', 'seq_num': 42}), Document(page_content='https://knovatekinc.com/devops-services/', metadata={'source': '/content/myprojectdatanew.json', 'seq_num': 43}), Document(page_content='https://knovatekinc.com/devops-services/', metadata={'source': '/content/myprojectdatanew.json', 'seq_num': 44}), Document(page_content='https://knovatekinc.com/sales-call-center/', metadata={'source': '/content/myprojectdatanew.json', 'seq_num': 45}), Document(page_content='https://knovatekinc.com/sales-call-center/', metadata={'source': '/content/myprojectdatanew.json', 'seq_num': 46}), Document(page_content='https://knovatekinc.com/virtual-employee/', metadata={'source': '/content/myprojectdatanew.json', 'seq_num': 47}), Document(page_content='https://knovatekinc.com/virtual-employee/', metadata={'source': '/content/myprojectdatanew.json', 'seq_num': 48}), Document(page_content='https://knovatekinc.com/website-support/', metadata={'source': '/content/myprojectdatanew.json', 'seq_num': 49}), Document(page_content='https://knovatekinc.com/website-support/', metadata={'source': '/content/myprojectdatanew.json', 'seq_num': 50}), Document(page_content='https://knovatekinc.com/website-portfolio/', metadata={'source': '/content/myprojectdatanew.json', 'seq_num': 52}), Document(page_content='https://knovatekinc.com/website-portfolio/', metadata={'source': '/content/myprojectdatanew.json', 'seq_num': 53}), Document(page_content='https://knovatekinc.com/website-portfolio/', metadata={'source': '/content/myprojectdatanew.json', 'seq_num': 54}), Document(page_content='https://knovatekinc.com/digital-marketing-portfolio/', metadata={'source': '/content/myprojectdatanew.json', 'seq_num': 55}), Document(page_content='https://knovatekinc.com/digital-marketing-portfolio/', metadata={'source': '/content/myprojectdatanew.json', 'seq_num': 56}), Document(page_content='https://knovatekinc.com/case-studies/', metadata={'source': '/content/myprojectdatanew.json', 'seq_num': 57}), Document(page_content='https://knovatekinc.com/case-studies/', metadata={'source': '/content/myprojectdatanew.json', 'seq_num': 58}), Document(page_content='https://knovatekinc.com/social-campaigns/', metadata={'source': '/content/myprojectdatanew.json', 'seq_num': 59}), Document(page_content='https://knovatekinc.com/social-campaigns/', metadata={'source': '/content/myprojectdatanew.json', 'seq_num': 60}), Document(page_content='https://knovatekinc.com/blog/', metadata={'source': '/content/myprojectdatanew.json', 'seq_num': 61}), Document(page_content='https://knovatekinc.com/case-studies/', metadata={'source': '/content/myprojectdatanew.json', 'seq_num': 62}), Document(page_content='https://knovatekinc.com/contact-us/', metadata={'source': '/content/myprojectdatanew.json', 'seq_num': 63}), Document(page_content='https://knovatekinc.com', metadata={'source': '/content/myprojectdatanew.json', 'seq_num': 64}), Document(page_content='https://knovatekinc.com/schedule-a-call/', metadata={'source': '/content/myprojectdatanew.json', 'seq_num': 65}), Document(page_content='https://www.google.com/search?q=knovatekinc&rlz=1C1CHBD_en-GBIN1038IN1038&oq=knovatekinc+&aqs=chrome..69i57j69i60l4.10942j0j7&sourceid=chrome&ie=UTF-8#lrd=0x882b3af8c8f15557:0xb277cf4b7cf3a79f,1,,,,', metadata={'source': '/content/myprojectdatanew.json', 'seq_num': 66}), Document(page_content='https://ca.trustpilot.com/review/knovatek.ca', metadata={'source': '/content/myprojectdatanew.json', 'seq_num': 67}), Document(page_content='https://www.upwork.com/agencies/~01ecbc8323e38065e6/', metadata={'source': '/content/myprojectdatanew.json', 'seq_num': 68}), Document(page_content='https://clutch.co/profile/knovatek-technologies-0#summary', metadata={'source': '/content/myprojectdatanew.json', 'seq_num': 69}), Document(page_content='https://knovatekinc.com/about-us/', metadata={'source': '/content/myprojectdatanew.json', 'seq_num': 70}), Document(page_content='https://knovatekinc.com/about-us/', metadata={'source': '/content/myprojectdatanew.json', 'seq_num': 71}), Document(page_content='https://knovatekinc.com/about-us/', metadata={'source': '/content/myprojectdatanew.json', 'seq_num': 72}), Document(page_content='https://knovatekinc.com/branding/', metadata={'source': '/content/myprojectdatanew.json', 'seq_num': 73}), Document(page_content='https://knovatekinc.com/digital-marketing/', metadata={'source': '/content/myprojectdatanew.json', 'seq_num': 74}), Document(page_content='https://knovatekinc.com/mobile-app-development/', metadata={'source': '/content/myprojectdatanew.json', 'seq_num': 75}), Document(page_content='https://knovatekinc.com/website-design-development/', metadata={'source': '/content/myprojectdatanew.json', 'seq_num': 76}), Document(page_content='https://knovatekinc.com/artificial-intelligence/', metadata={'source': '/content/myprojectdatanew.json', 'seq_num': 77}), Document(page_content='https://knovatekinc.com/devops-services/', metadata={'source': '/content/myprojectdatanew.json', 'seq_num': 78}), Document(page_content='https://knovatekinc.com/sales-call-center/', metadata={'source': '/content/myprojectdatanew.json', 'seq_num': 79}), Document(page_content='https://knovatekinc.com/virtual-employee/', metadata={'source': '/content/myprojectdatanew.json', 'seq_num': 80}), Document(page_content='https://knovatekinc.com/website-support/', metadata={'source': '/content/myprojectdatanew.json', 'seq_num': 81}), Document(page_content='https://knovatekinc.com/website-support/', metadata={'source': '/content/myprojectdatanew.json', 'seq_num': 82}), Document(page_content='https://knovatekinc.com/schedule-a-call/', metadata={'source': '/content/myprojectdatanew.json', 'seq_num': 83}), Document(page_content='https://knovatekinc.com/case-studies/', metadata={'source': '/content/myprojectdatanew.json', 'seq_num': 84}), Document(page_content='https://knovatekinc.com/case-studies/dentalgram-app/', metadata={'source': '/content/myprojectdatanew.json', 'seq_num': 85}), Document(page_content='https://knovatekinc.com/case-studies/dentalgram-app/', metadata={'source': '/content/myprojectdatanew.json', 'seq_num': 86}), Document(page_content='https://knovatekinc.com/case-studies/bt-u-app/', metadata={'source': '/content/myprojectdatanew.json', 'seq_num': 87}), Document(page_content='https://knovatekinc.com/case-studies/bt-u-app/', metadata={'source': '/content/myprojectdatanew.json', 'seq_num': 88}), Document(page_content='https://knovatekinc.com/case-studies/nubottle-app/', metadata={'source': '/content/myprojectdatanew.json', 'seq_num': 89}), Document(page_content='https://knovatekinc.com/case-studies/nubottle-app/', metadata={'source': '/content/myprojectdatanew.json', 'seq_num': 90}), Document(page_content='//www.youtube.com/watch?v=HHrmKxZzhRE&autoplay=0&mute=1', metadata={'source': '/content/myprojectdatanew.json', 'seq_num': 91}), Document(page_content='//www.youtube.com/watch?v=uxUP3Uc5emA&autoplay=0&mute=1', metadata={'source': '/content/myprojectdatanew.json', 'seq_num': 92}), Document(page_content='//www.youtube.com/watch?v=NqqTiYZjYgg&autoplay=0&mute=1', metadata={'source': '/content/myprojectdatanew.json', 'seq_num': 93}), Document(page_content='https://mahoehealth.com/', metadata={'source': '/content/myprojectdatanew.json', 'seq_num': 94}), Document(page_content='http://hanifbrown.com/', metadata={'source': '/content/myprojectdatanew.json', 'seq_num': 95}), Document(page_content='https://www.progressmedicalllc.com/', metadata={'source': '/content/myprojectdatanew.json', 'seq_num': 96}), Document(page_content='https://picuz.com/', metadata={'source': '/content/myprojectdatanew.json', 'seq_num': 97}), Document(page_content='https://iclubz.com/', metadata={'source': '/content/myprojectdatanew.json', 'seq_num': 98}), Document(page_content='http://www.hiddengemstaging.com/', metadata={'source': '/content/myprojectdatanew.json', 'seq_num': 99}), Document(page_content='mailto:amitgarg87@gmail.com', metadata={'source': '/content/myprojectdatanew.json', 'seq_num': 100}), Document(page_content='https://knovatekinc.com/schedule-a-call/', metadata={'source': '/content/myprojectdatanew.json', 'seq_num': 101}), Document(page_content='mailto:priyankagarg7193@gmail.com', metadata={'source': '/content/myprojectdatanew.json', 'seq_num': 102}), Document(page_content='https://knovatekinc.com/priyanka-garg/', metadata={'source': '/content/myprojectdatanew.json', 'seq_num': 103}), Document(page_content='https://www.google.com/search?q=knovatekinc&rlz=1C1CHBD_en-GBIN1038IN1038&oq=knovatekinc+&aqs=chrome..69i57j69i60l4.10942j0j7&sourceid=chrome&ie=UTF-8#lrd=0x882b3af8c8f15557:0xb277cf4b7cf3a79f,1,,,,', metadata={'source': '/content/myprojectdatanew.json', 'seq_num': 104}), Document(page_content='https://ca.trustpilot.com/review/knovatek.ca', metadata={'source': '/content/myprojectdatanew.json', 'seq_num': 105}), Document(page_content='https://www.upwork.com/agencies/~01ecbc8323e38065e6/', metadata={'source': '/content/myprojectdatanew.json', 'seq_num': 106}), Document(page_content='https://clutch.co/profile/knovatek-technologies-0#summary', metadata={'source': '/content/myprojectdatanew.json', 'seq_num': 107}), Document(page_content='https://www.google.com/search?q=knovatekinc&rlz=1C1CHBD_en-GBIN1038IN1038&oq=knovatekinc+&aqs=chrome..69i57j69i60l4.10942j0j7&sourceid=chrome&ie=UTF-8#lrd=0x882b3af8c8f15557:0xb277cf4b7cf3a79f,1,,,,', metadata={'source': '/content/myprojectdatanew.json', 'seq_num': 108}), Document(page_content='https://ca.trustpilot.com/review/knovatek.ca', metadata={'source': '/content/myprojectdatanew.json', 'seq_num': 109}), Document(page_content='https://www.upwork.com/agencies/~01ecbc8323e38065e6/', metadata={'source': '/content/myprojectdatanew.json', 'seq_num': 110}), Document(page_content='https://clutch.co/profile/knovatek-technologies-0#summary', metadata={'source': '/content/myprojectdatanew.json', 'seq_num': 111}), Document(page_content='https://knovatekinc.com', metadata={'source': '/content/myprojectdatanew.json', 'seq_num': 112}), Document(page_content='https://knovatekinc.com/', metadata={'source': '/content/myprojectdatanew.json', 'seq_num': 113}), Document(page_content='/services/', metadata={'source': '/content/myprojectdatanew.json', 'seq_num': 114}), Document(page_content='/case-studies/', metadata={'source': '/content/myprojectdatanew.json', 'seq_num': 115}), Document(page_content='https://buy.stripe.com/fZedSP3SyfJ8cms9AA', metadata={'source': '/content/myprojectdatanew.json', 'seq_num': 116}), Document(page_content='https://knovatekinc.com/career/', metadata={'source': '/content/myprojectdatanew.json', 'seq_num': 117}), Document(page_content='https://knovatekinc.com/about-us/', metadata={'source': '/content/myprojectdatanew.json', 'seq_num': 118}), Document(page_content='/contact-us/', metadata={'source': '/content/myprojectdatanew.json', 'seq_num': 119}), Document(page_content='https://www.facebook.com/knovatekinc', metadata={'source': '/content/myprojectdatanew.json', 'seq_num': 120}), Document(page_content='https://twitter.com/Knovatekinc_', metadata={'source': '/content/myprojectdatanew.json', 'seq_num': 121}), Document(page_content='https://www.linkedin.com/company/knovatekinc/', metadata={'source': '/content/myprojectdatanew.json', 'seq_num': 122}), Document(page_content='https://www.instagram.com/knovatekinc_/', metadata={'source': '/content/myprojectdatanew.json', 'seq_num': 123}), Document(page_content='https://www.youtube.com/@knovatekinc', metadata={'source': '/content/myprojectdatanew.json', 'seq_num': 124}), Document(page_content='https://knovatekinc.com', metadata={'source': '/content/myprojectdatanew.json', 'seq_num': 125}), Document(page_content='https://knovatekinc.com/', metadata={'source': '/content/myprojectdatanew.json', 'seq_num': 126}), Document(page_content='/services', metadata={'source': '/content/myprojectdatanew.json', 'seq_num': 127}), Document(page_content='/case-studies/', metadata={'source': '/content/myprojectdatanew.json', 'seq_num': 128}), Document(page_content='https://buy.stripe.com/fZedSP3SyfJ8cms9AA', metadata={'source': '/content/myprojectdatanew.json', 'seq_num': 129}), Document(page_content='https://knovatekinc.com/career/', metadata={'source': '/content/myprojectdatanew.json', 'seq_num': 130}), Document(page_content='/about-us/', metadata={'source': '/content/myprojectdatanew.json', 'seq_num': 131}), Document(page_content='/contact-us', metadata={'source': '/content/myprojectdatanew.json', 'seq_num': 132}), Document(page_content='https://www.facebook.com/knovatekinc', metadata={'source': '/content/myprojectdatanew.json', 'seq_num': 133}), Document(page_content='https://twitter.com/Knovatekinc_', metadata={'source': '/content/myprojectdatanew.json', 'seq_num': 134}), Document(page_content='https://www.linkedin.com/company/knovatekinc/', metadata={'source': '/content/myprojectdatanew.json', 'seq_num': 135}), Document(page_content='https://www.instagram.com/knovatekinc_/', metadata={'source': '/content/myprojectdatanew.json', 'seq_num': 136}), Document(page_content='https://knovatekinc.com/contact-us/', metadata={'source': '/content/myprojectdatanew.json', 'seq_num': 137}), Document(page_content='https://knovatekinc.com/contact-us/', metadata={'source': '/content/myprojectdatanew.json', 'seq_num': 138}), Document(page_content='https://knovatekinc.com/contact-us/', metadata={'source': '/content/myprojectdatanew.json', 'seq_num': 139}), Document(page_content='https://knovatekinc.com/contact-us/', metadata={'source': '/content/myprojectdatanew.json', 'seq_num': 140}), Document(page_content='https://knovatekinc.com/terms-and-conditions/', metadata={'source': '/content/myprojectdatanew.json', 'seq_num': 141}), Document(page_content='https://knovatekinc.com/privacy-policy/', metadata={'source': '/content/myprojectdatanew.json', 'seq_num': 142})]\n"
          ]
        }
      ]
    },
    {
      "cell_type": "code",
      "source": [
        "qa.run('which information you have')"
      ],
      "metadata": {
        "colab": {
          "base_uri": "https://localhost:8080/",
          "height": 53
        },
        "id": "M8eL_RXzIvor",
        "outputId": "12bce0cb-772e-4897-dab4-7d224fd122a6"
      },
      "execution_count": 68,
      "outputs": [
        {
          "output_type": "execute_result",
          "data": {
            "text/plain": [
              "'\\nBased on the given context, it appears that the website offers technical services to improve website performance and that they have a contact form or page for customers to reach out for assistance. '"
            ],
            "application/vnd.google.colaboratory.intrinsic+json": {
              "type": "string"
            }
          },
          "metadata": {},
          "execution_count": 68
        }
      ]
    },
    {
      "cell_type": "code",
      "source": [
        "qa.run('all services like web devlopment')"
      ],
      "metadata": {
        "colab": {
          "base_uri": "https://localhost:8080/",
          "height": 53
        },
        "id": "MDW5qlU9Kc1o",
        "outputId": "13373776-67c7-4948-a57c-0056e5b3d631"
      },
      "execution_count": 70,
      "outputs": [
        {
          "output_type": "execute_result",
          "data": {
            "text/plain": [
              "'\\nBased on the context given, it is likely that the company Knovatek Inc. offers services such as website design and development. However, without further information, it is not possible to determine if they offer all services related to web development. '"
            ],
            "application/vnd.google.colaboratory.intrinsic+json": {
              "type": "string"
            }
          },
          "metadata": {},
          "execution_count": 70
        }
      ]
    },
    {
      "cell_type": "code",
      "source": [],
      "metadata": {
        "id": "SNIddjNkKf4y"
      },
      "execution_count": null,
      "outputs": []
    }
  ]
}